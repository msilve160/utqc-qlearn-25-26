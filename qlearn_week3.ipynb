{
  "nbformat": 4,
  "nbformat_minor": 0,
  "metadata": {
    "colab": {
      "provenance": []
    },
    "kernelspec": {
      "name": "python3",
      "display_name": "Python 3"
    },
    "language_info": {
      "name": "python"
    }
  },
  "cells": [
    {
      "cell_type": "markdown",
      "source": [
        "# qLearn Week 3 - Quantum Operations\n",
        "In lecture, we introduced quantum circuits and some basic single-qubit gates"
      ],
      "metadata": {
        "id": "P567V-LQ2e8G"
      }
    },
    {
      "cell_type": "code",
      "execution_count": null,
      "metadata": {
        "id": "Mi78vRtX2Xms"
      },
      "outputs": [],
      "source": [
        "%pip install qiskit"
      ]
    },
    {
      "cell_type": "code",
      "source": [
        "from qiskit import QuantumCircuit\n",
        "from qiskit.quantum_info import Statevector\n",
        "from qiskit.visualization import plot_distribution\n",
        "from numpy import pi"
      ],
      "metadata": {
        "id": "WeDwYijJ3DhT"
      },
      "execution_count": null,
      "outputs": []
    },
    {
      "cell_type": "markdown",
      "source": [
        "## 1. X & H Gates\n",
        "### Introduction\n",
        "In this section, we will explore two fundamental single-qubit gates in quantum computing: the Pauli-X (X) gate and the Hadamard (H) gate. We will use Qiskit to create a simple quantum circuit, apply these gates, and visualize the results.\n",
        "\n",
        "### 1.1 Pauli-X Gate\n",
        "The X gate is the quantum equivalent of the classical NOT gate. It flips the state of a qubit:\n",
        "\n",
        "->|0⟩ becomes |1⟩  \n",
        "->|1⟩ becomes |0⟩"
      ],
      "metadata": {
        "id": "NmOUk8bL3Jq5"
      }
    },
    {
      "cell_type": "code",
      "source": [
        "#Instantiate a quantum circuit with 1 qubit\n",
        "qc = QuantumCircuit(1)\n",
        "\n",
        "#Apply the X gate to qubit (index 0)\n",
        "qc.x(0)\n",
        "\n",
        "\n",
        "#Visualization Steps\n",
        "state = Statevector(qc)\n",
        "print('Quantum State: ', state.data)\n",
        "print('|0> and |1> state probabilities: ', state.probabilities())\n",
        "plot_distribution(state.probabilities_dict())"
      ],
      "metadata": {
        "id": "Zy_2cOI63N7X"
      },
      "execution_count": null,
      "outputs": []
    },
    {
      "cell_type": "markdown",
      "source": [
        "### 1.2 Hadamard Gate\n",
        "The H gate creates a superposition state from a classical bit:\n",
        "\n",
        "->|0⟩ becomes (|0⟩ + |1⟩)/√2 = |+⟩  \n",
        "->|1⟩ becomes (|0⟩ - |1⟩)/√2 = |-⟩  \n"
      ],
      "metadata": {
        "id": "86P-HoT07JgP"
      }
    },
    {
      "cell_type": "code",
      "source": [
        "#Instantiate a quantum circuit with 1 qubit\n",
        "qc = QuantumCircuit(1)\n",
        "\n",
        "#Apply the H gate to qubit (index 0)\n",
        "qc.h(0)\n",
        "\n",
        "\n",
        "#Visualization Steps\n",
        "state = Statevector(qc)\n",
        "print('Quantum State: ', state.data)\n",
        "print('|0> and |1> state probabilities: ', state.probabilities())\n",
        "plot_distribution(state.probabilities_dict())"
      ],
      "metadata": {
        "id": "K1TXYpaO7KeO"
      },
      "execution_count": null,
      "outputs": []
    },
    {
      "cell_type": "markdown",
      "source": [
        "## 1.3 Challenges\n",
        "Now your turn! Use your knowledge of Hadamard and X gates to create the |+⟩ and |-⟩ qubit states."
      ],
      "metadata": {
        "id": "2-1p5wir8TXE"
      }
    },
    {
      "cell_type": "code",
      "source": [
        "#Create the plus state here:\n",
        "\n",
        "#Instantiate a quantum circuit with 1 qubit\n",
        "qc = QuantumCircuit(1)\n",
        "\n",
        "#######################\n",
        "#   YOUR CODE HERE    #\n",
        "#######################\n",
        "\n",
        "\n",
        "\n",
        "#Visualization Steps\n",
        "state = Statevector(qc)\n",
        "print('Quantum State: ', state.data)\n",
        "print('|0> and |1> state probabilities: ', state.probabilities())\n",
        "plot_distribution(state.probabilities_dict())"
      ],
      "metadata": {
        "id": "be8BGZEj8QC4"
      },
      "execution_count": null,
      "outputs": []
    },
    {
      "cell_type": "code",
      "source": [
        "#Create the minus state here:\n",
        "\n",
        "#Instantiate a quantum circuit with 1 qubit\n",
        "qc = QuantumCircuit(1)\n",
        "\n",
        "#######################\n",
        "#   YOUR CODE HERE    #\n",
        "#######################\n",
        "\n",
        "\n",
        "\n",
        "#Visualization Steps\n",
        "state = Statevector(qc)\n",
        "print('Quantum State: ', state.data)\n",
        "print('|0> and |1> state probabilities: ', state.probabilities())\n",
        "plot_distribution(state.probabilities_dict())"
      ],
      "metadata": {
        "id": "sUath8e48iGV"
      },
      "execution_count": null,
      "outputs": []
    },
    {
      "cell_type": "markdown",
      "source": [
        "## 2.0 Rotation Gates\n",
        "\n",
        "In this section we will discuss the X,Y,Z quantum rotational gates."
      ],
      "metadata": {
        "id": "iLjbXpd8GGEo"
      }
    },
    {
      "cell_type": "markdown",
      "source": [
        "### 2.1 Parameterized Rotation Gates\n",
        "The R-gates rotate qubit states around their respective axes"
      ],
      "metadata": {
        "id": "wgu8TjG8GMUl"
      }
    },
    {
      "cell_type": "code",
      "source": [
        "#Instantiate a quantum circuit with 1 qubit\n",
        "qc = QuantumCircuit(1)\n",
        "\n",
        "qc.rz(pi/2,0)\n",
        "qc.rx(pi/2,0)\n",
        "qc.ry(pi/2,0)\n",
        "\n",
        "#Visualization Steps\n",
        "state = Statevector(qc)\n",
        "print('Quantum State: ', state.data)\n",
        "print('|0> and |1> state probabilities: ', state.probabilities())\n",
        "plot_distribution(state.probabilities_dict())"
      ],
      "metadata": {
        "id": "eQWETlhXGVBW"
      },
      "execution_count": null,
      "outputs": []
    },
    {
      "cell_type": "markdown",
      "source": [
        "### 2.2 Challenge: Creating Universal Gates\n",
        "Create the Hadamard gate using only a combination of R-gates!\n",
        "\n",
        "(Hint: think of the directions the vector moves, use [the Bloch sphere visualizer](https://bloch.kherb.io/) and [a linear algebra calculator](https://www.symbolab.com/))\n",
        "\n",
        "If you think you've figured out the necessary gates, but can't think of the angles to use, let me know!"
      ],
      "metadata": {
        "id": "PGDYauxsHl0c"
      }
    },
    {
      "cell_type": "code",
      "source": [
        "#Instantiate a quantum circuit with 1 qubit\n",
        "qc = QuantumCircuit(1)\n",
        "\n",
        "#######################\n",
        "#   YOUR CODE HERE    #\n",
        "#######################\n",
        "\n",
        "\n",
        "\n",
        "#Visualization Steps\n",
        "state = Statevector(qc)\n",
        "print('Quantum State: ', state.data)\n",
        "print('|0> and |1> state probabilities: ', state.probabilities())\n",
        "plot_distribution(state.probabilities_dict())"
      ],
      "metadata": {
        "id": "QydK2Q8FJfHi"
      },
      "execution_count": null,
      "outputs": []
    }
  ]
}